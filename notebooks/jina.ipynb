{
 "cells": [
  {
   "cell_type": "code",
   "execution_count": 1,
   "metadata": {},
   "outputs": [],
   "source": [
    "import os\n",
    "import pandas as pd\n",
    "from qdrant_client import QdrantClient, models\n",
    "from fastembed import SparseTextEmbedding, LateInteractionTextEmbedding, MultiTaskTextEmbedding\n",
    "# from src.embedding import JinaEmbeddings\n",
    "\n",
    "DENSE_COLLECTION_NAME = \"aaps_jina_vector\"\n",
    "HYBRID_COLLECTION_NAME = \"aaps_hybrid_vector\"\n",
    "\n",
    "%load_ext autoreload\n",
    "%autoreload 2"
   ]
  },
  {
   "cell_type": "code",
   "execution_count": 2,
   "metadata": {},
   "outputs": [
    {
     "data": {
      "text/html": [
       "<div>\n",
       "<style scoped>\n",
       "    .dataframe tbody tr th:only-of-type {\n",
       "        vertical-align: middle;\n",
       "    }\n",
       "\n",
       "    .dataframe tbody tr th {\n",
       "        vertical-align: top;\n",
       "    }\n",
       "\n",
       "    .dataframe thead th {\n",
       "        text-align: right;\n",
       "    }\n",
       "</style>\n",
       "<table border=\"1\" class=\"dataframe\">\n",
       "  <thead>\n",
       "    <tr style=\"text-align: right;\">\n",
       "      <th></th>\n",
       "      <th>id</th>\n",
       "      <th>titre</th>\n",
       "      <th>description_courte</th>\n",
       "      <th>description_longue</th>\n",
       "    </tr>\n",
       "  </thead>\n",
       "  <tbody>\n",
       "    <tr>\n",
       "      <th>0</th>\n",
       "      <td>1ee7fafc-9b5a-6e4e-a950-855d180b6146</td>\n",
       "      <td>Mission de Commissionnement pour des rénovatio...</td>\n",
       "      <td>Pour vous aider à rénover vos bâtiments de man...</td>\n",
       "      <td>Pour sécuriser la qualité de votre rénovation ...</td>\n",
       "    </tr>\n",
       "  </tbody>\n",
       "</table>\n",
       "</div>"
      ],
      "text/plain": [
       "                                     id  \\\n",
       "0  1ee7fafc-9b5a-6e4e-a950-855d180b6146   \n",
       "\n",
       "                                               titre  \\\n",
       "0  Mission de Commissionnement pour des rénovatio...   \n",
       "\n",
       "                                  description_courte  \\\n",
       "0  Pour vous aider à rénover vos bâtiments de man...   \n",
       "\n",
       "                                  description_longue  \n",
       "0  Pour sécuriser la qualité de votre rénovation ...  "
      ]
     },
     "execution_count": 2,
     "metadata": {},
     "output_type": "execute_result"
    }
   ],
   "source": [
    "df = pd.read_csv(\"./data/dis-ademe-dispositifs-daide-r2da.csv\")\n",
    "cols = [\"id\", \"titre\", \"description_courte\", \"description_longue\"]\n",
    "\n",
    "def clean_text(serie: pd.Series):\n",
    "    serie = serie.str.replace(r\"<[^>]+>\", \"\", regex=True)\n",
    "    serie = serie.str.replace(\"&nbsp;\", \" \", case=False)\n",
    "    serie = serie.str.replace(r\"’\", \"'\", case=False)\n",
    "    serie = serie.str.replace(\"l'ademe\", \"Elle\", case=False)\n",
    "    serie = serie.str.replace(\"ademe\", \"Elle\", case=False)\n",
    "    return serie\n",
    "\n",
    "\n",
    "df.titre = clean_text(df.titre)\n",
    "df.description_courte = clean_text(df.description_courte)\n",
    "df.description_longue = clean_text(df.description_longue)\n",
    "df[cols].head(1)"
   ]
  },
  {
   "cell_type": "code",
   "execution_count": 3,
   "metadata": {},
   "outputs": [
    {
     "name": "stderr",
     "output_type": "stream",
     "text": [
      "/var/folders/pl/980lv6h92qg2ffgp6b0rw65h0000gn/T/ipykernel_12779/4240891094.py:3: FutureWarning: Setting an item of incompatible dtype is deprecated and will raise in a future error of pandas. Value 'None' has dtype incompatible with float64, please explicitly cast to a compatible dtype first.\n",
      "  df[:] = None\n",
      "/var/folders/pl/980lv6h92qg2ffgp6b0rw65h0000gn/T/ipykernel_12779/4240891094.py:3: FutureWarning: Setting an item of incompatible dtype is deprecated and will raise in a future error of pandas. Value 'None' has dtype incompatible with int64, please explicitly cast to a compatible dtype first.\n",
      "  df[:] = None\n"
     ]
    }
   ],
   "source": [
    "df['description'] = (df.titre + '\\n' + df.description_courte + '\\n' + df.description_longue)\n",
    "documents = df[['id', 'description']].to_dict(orient=\"records\")\n",
    "df[:] = None\n",
    "df = None\n",
    "del df"
   ]
  },
  {
   "cell_type": "markdown",
   "metadata": {},
   "source": [
    "## Dense only"
   ]
  },
  {
   "cell_type": "code",
   "execution_count": null,
   "metadata": {},
   "outputs": [],
   "source": [
    "jina = JinaEmbeddings()\n",
    "task = \"retrieval.passage\""
   ]
  },
  {
   "cell_type": "code",
   "execution_count": null,
   "metadata": {},
   "outputs": [],
   "source": [
    "qdrant_client = QdrantClient(\n",
    "    host=os.getenv(\"QDRANT_HOST\"),\n",
    "    api_key=os.getenv(\"QDRANT_API_KEY\"),\n",
    ")"
   ]
  },
  {
   "cell_type": "code",
   "execution_count": null,
   "metadata": {},
   "outputs": [],
   "source": [
    "# qdrant_client.create_collection(\n",
    "#     collection_name=COLLECTION_NAME,\n",
    "#     vectors_config=models.VectorParams(\n",
    "#         size=jina.vector_size,\n",
    "#         distance=models.Distance.COSINE,\n",
    "#     ),\n",
    "# )"
   ]
  },
  {
   "cell_type": "markdown",
   "metadata": {},
   "source": [
    "### Index"
   ]
  },
  {
   "cell_type": "code",
   "execution_count": null,
   "metadata": {},
   "outputs": [],
   "source": [
    "qdrant_client.upload_points(\n",
    "    collection_name=DENSE_COLLECTION_NAME,\n",
    "    points=[\n",
    "        models.PointStruct(\n",
    "            id=doc[\"id\"],\n",
    "            vector=jina.encode(doc[\"description\"], task)[0].tolist(),\n",
    "            payload=doc,\n",
    "        )\n",
    "        for doc in documents\n",
    "    ],\n",
    ")"
   ]
  },
  {
   "cell_type": "markdown",
   "metadata": {},
   "source": [
    "### Search"
   ]
  },
  {
   "cell_type": "code",
   "execution_count": null,
   "metadata": {},
   "outputs": [],
   "source": [
    "query_text = \"Remplacement de mon groupe froid\"\n",
    "hits = qdrant_client.query_points(\n",
    "    collection_name=DENSE_COLLECTION_NAME,\n",
    "    query=jina.encode(query_text,task=\"retrieval.query\").tolist()[0],\n",
    "    limit=10,\n",
    ").points\n",
    "\n",
    "for hit in hits:\n",
    "    print(hit.payload, \"\\nscore:\", hit.score)"
   ]
  },
  {
   "cell_type": "markdown",
   "metadata": {},
   "source": [
    "## Hybrid"
   ]
  },
  {
   "cell_type": "code",
   "execution_count": 4,
   "metadata": {},
   "outputs": [],
   "source": [
    "qdrant_client = QdrantClient(\n",
    "    host=os.getenv(\"QDRANT_HOST\"),\n",
    "    api_key=os.getenv(\"QDRANT_API_KEY\"),\n",
    ")"
   ]
  },
  {
   "cell_type": "code",
   "execution_count": null,
   "metadata": {},
   "outputs": [],
   "source": [
    "# jina= JinaEmbeddings()\n",
    "jina = MultiTaskTextEmbedding(model_name=\"jinaai/jina-embeddings-v3\")\n",
    "task = \"retrieval.passage\"\n",
    "\n",
    "bm42 = SparseTextEmbedding(model_name=\"Qdrant/bm42-all-minilm-l6-v2-attentions\")\n",
    "\n",
    "def embed_with_bm42(passage: str) -> models.SparseVector:\n",
    "    embedding = list(bm42.passage_embed(passage))[0]\n",
    "    return models.SparseVector(\n",
    "                indices=embedding.indices.tolist(),\n",
    "                values=embedding.values.tolist()\n",
    "            )\n",
    "colbert_model_name = \"colbert-ir/colbertv2.0\"\n",
    "colbert = LateInteractionTextEmbedding(colbert_model_name)"
   ]
  },
  {
   "cell_type": "markdown",
   "metadata": {},
   "source": [
    "### Index"
   ]
  },
  {
   "cell_type": "code",
   "execution_count": null,
   "metadata": {},
   "outputs": [],
   "source": [
    "colbert_vector_size = LateInteractionTextEmbedding._get_model_description(colbert_model_name)[\"dim\"]\n",
    "\n",
    "qdrant_client.recreate_collection(\n",
    "    collection_name=HYBRID_COLLECTION_NAME,\n",
    "    vectors_config={\n",
    "        \"jina_dense\": models.VectorParams(\n",
    "            size=jina.vector_size,\n",
    "            distance=models.Distance.COSINE,\n",
    "        ),\n",
    "        \"jina_colbert\": models.VectorParams(\n",
    "            size=colbert_vector_size,\n",
    "            distance=models.Distance.COSINE,\n",
    "            multivector_config=models.MultiVectorConfig(\n",
    "                comparator=models.MultiVectorComparator.MAX_SIM\n",
    "            ),\n",
    "        ),\n",
    "    },\n",
    "    sparse_vectors_config={\n",
    "        \"bm42\": models.SparseVectorParams(\n",
    "            modifier=models.Modifier.IDF,\n",
    "        )\n",
    "    },\n",
    ")"
   ]
  },
  {
   "cell_type": "code",
   "execution_count": null,
   "metadata": {},
   "outputs": [],
   "source": [
    "qdrant_client.upload_points(\n",
    "    collection_name=HYBRID_COLLECTION_NAME,\n",
    "    points=[\n",
    "        models.PointStruct(\n",
    "            id=doc[\"id\"],\n",
    "            vector={\n",
    "                \"jina_dense\": jina.encode(doc[\"description\"], task)[0].tolist(),\n",
    "                \"jina_colbert\": list(colbert.passage_embed(doc[\"description\"]))[0],\n",
    "                \"bm42\": embed_with_bm42(documents[0][\"description\"]),\n",
    "            },\n",
    "            payload=doc,\n",
    "        )\n",
    "        for doc in documents\n",
    "    ],\n",
    "    batch_size=16,\n",
    ")"
   ]
  },
  {
   "cell_type": "markdown",
   "metadata": {},
   "source": [
    "### Search"
   ]
  },
  {
   "cell_type": "code",
   "execution_count": 5,
   "metadata": {},
   "outputs": [
    {
     "data": {
      "application/vnd.jupyter.widget-view+json": {
       "model_id": "d5b449345b1a4ac7865c8855e9754661",
       "version_major": 2,
       "version_minor": 0
      },
      "text/plain": [
       "Fetching 6 files:   0%|          | 0/6 [00:00<?, ?it/s]"
      ]
     },
     "metadata": {},
     "output_type": "display_data"
    },
    {
     "data": {
      "application/vnd.jupyter.widget-view+json": {
       "model_id": "ce50ae35b8c24c2cb73368248aae3f52",
       "version_major": 2,
       "version_minor": 0
      },
      "text/plain": [
       "Fetching 6 files:   0%|          | 0/6 [00:00<?, ?it/s]"
      ]
     },
     "metadata": {},
     "output_type": "display_data"
    },
    {
     "data": {
      "application/vnd.jupyter.widget-view+json": {
       "model_id": "6133551750fe4e5a8f7ffd5f07b522d8",
       "version_major": 2,
       "version_minor": 0
      },
      "text/plain": [
       "Fetching 5 files:   0%|          | 0/5 [00:00<?, ?it/s]"
      ]
     },
     "metadata": {},
     "output_type": "display_data"
    }
   ],
   "source": [
    "jina = MultiTaskTextEmbedding(model_name=\"jinaai/jina-embeddings-v3\")\n",
    "bm42 = SparseTextEmbedding(model_name=\"Qdrant/bm42-all-minilm-l6-v2-attentions\")\n",
    "\n",
    "def embed_with_bm42(passage: str) -> models.SparseVector:\n",
    "    embedding = list(bm42.passage_embed(passage))[0]\n",
    "    return models.SparseVector(\n",
    "                indices=embedding.indices.tolist(),\n",
    "                values=embedding.values.tolist()\n",
    "            )\n",
    "colbert_model_name = \"colbert-ir/colbertv2.0\"\n",
    "colbert = LateInteractionTextEmbedding(colbert_model_name)"
   ]
  },
  {
   "cell_type": "code",
   "execution_count": 6,
   "metadata": {},
   "outputs": [
    {
     "name": "stdout",
     "output_type": "stream",
     "text": [
      "{'id': '1edbbf5b-5ef2-6a26-89fc-8180f3010746', 'description': \"Études de réseaux de chaleur renouvelables, 2ᵉ édition : jusqu'à 80 % de vos études financées\\nCet Appel à projets propose une aide exceptionnelle pour vous aider à identifier et mettre en œuvre les projets de réseaux de chaleur renouvelable et de récupération ou de boucles d'eau tempérées géothermique les plus pertinents sur votre territoire.\\nVous souhaitez réunir les conditions de réussite par l'intermédiaire d'une étude ? Vous souhaitez faire appel à un bureau d'étude externe ou un cabinet conseil indépendant ? Votre collectivité couvre une population inférieure à 50 000 habitants ?Elle pourrait financer votre étude jusqu'à 80 % (via le principe de minimis).Dans un deuxième temps, elle pourra offrir des aides Fonds Chaleur pour vos travaux de réalisation.Elle met à disposition des modèles de cahier des charges et des guides pour faciliter l'appel à un bureau d'étude ou à un cabinet conseil.Vous vous interrogez sur la pertinence d'un réseau de chaleur sur votre territoire ?Selon les régions, Elle s'appuie sur certains relais pour vous accompagner dans la validation de l'opportunité d'un réseau de chaleur, de froid ou d'une boucle d'eau tempérée géothermique au sein de votre territoire.Pour en bénéficier, contactez votre Direction Régionale. Pour cela, sélectionnez « Je contacte Elle » dans la   rubrique « Informations utiles » en bas de page. Sélectionnez ensuite « Question sur un projet » dans le champ « Votre besoin ».   En complément, des « visites à domicile » auprès des collectivités sont organisées par Elle et ses partenaires AMORCE et le CEREMA, à la suite du Groupe de Travail sur les Réseaux de chaleur Enr&amp;R porté par la secrétaire d'État Emmanuelle Wargon en 2019. Pour en bénéficier, contacter AMORCE (qbulot@amorce.asso.fr) ou le CEREMA (luc.petitpain@cerema.fr).\"} \n",
      "score: 16.78548\n",
      "{'id': '1ecc5efa-9e5e-6956-8f21-e3a21d16f071', 'description': \"Réseaux de chaleur renouvelables : jusqu'à 90 % de vos études financées. Candidatez maintenant\\nCet Appel à projets propose une aide exceptionnelle pour vous aider à identifier et mettre en œuvre les projets de réseaux de chaleur renouvelable et de récupération ou de boucles d'eau tempérées géothermique les plus pertinents sur votre territoire.\\nVous êtes une collectivité, une association, une entreprise et vous souhaitez entreprendre un projet de réseau de chaleur, de froid ou de boucle d'eau tempérée géothermique sur votre territoire ?Vous souhaitez réunir les conditions de réussite par l'intermédiaire d'une étude ? Vous souhaitez faire appel à un bureau d'étude externe ou un cabinet conseil indépendant ? Votre territoire est compris entre 2 000 et 50 000 habitants ?Elle pourrait financer votre étude à hauteur de 90 % via le principe de minimis. Dans un deuxième temps, elle pourra offrir des aides Fonds Chaleur pour vos travaux de réalisation.Elle met à disposition des modèles de cahier des charges et des guides pour faciliter l'appel à un bureau d'étude ou à un cabinet conseil.Vous vous interrogez sur la pertinence d'un réseau de chaleur sur votre territoire ?Selon les régions, Elle s'appuie sur certains relais pour vous accompagner dans la validation de l'opportunité d'un réseau de chaleur, de froid ou d'une boucle d'eau tempérée géothermique au sein de votre territoire. Pour en bénéficier, contacter votre direction régionale via le formulaire de contact.En complément, des « visites à domicile » auprès des collectivités sont organisées par Elle et ses partenaires AMORCE et le CEREMA, à la suite du Groupe de Travail sur les Réseaux de chaleur Enr&amp;R porté par la secrétaire d'État Emmanuelle Wargon en 2019. Pour en bénéficier, contacter AMORCE (qbulot@amorce.asso.fr) ou le CEREMA (luc.petitpain@cerema.fr). \"} \n",
      "score: 15.7371855\n",
      "{'id': '1ee8aae2-c1f0-6ed2-85e9-89f505420834', 'description': \"Booster Entreprises : réduire votre facture énergétique et gagner en valeur verte\\nPour une rénovation énergétique de vos bâtiments d'activité tertiaire, Elle accompagne financièrement et techniquement les entreprises du secteur privé grâce à une offre d'ingénierie.\\nLimité à 7 régions (Auvergne-Rhône-Alpes, Bretagne, Corse, Occitanie, Bourgogne Franche Comté, Guadeloupe, Martinique) pour 2024, le dispositif :Est ouvert aux locaux tertiaires non assujetties au DEET, permettant le soutien à l'ingénierie dès l'étape de l'audit énergétique (ou diagnostic). Pour les entreprises, il s'agira d'un acte volontaire leur permettant de réaliser des travaux d'économies d'énergie ambitieux sur leur bâtiment.Est ouvert également aux locaux tertiaires assujetties au DEET, permettant le soutien à l'ingénierie de réalisation de travaux d'économies d'énergie ambitieux sur leur bâtiment.Le soutien de Elle porte sur les étapes suivantes (cf cahiers des charges joints) :Phase 1, audit énergétique (ou diagnostic) : état des lieux, analyse, plan d'actions et montages financiers.Phase 2, accompagnement à la mise en œuvre des actions à temps de retour rapide (réglages, régulations des installations, GTB (Gestion technique de bâtiment), etc.).Phase 3, ingénierie pour réaliser des travaux d'économie d'énergie ambitieux (objectif DEET 2030 pour PME, objectif DEET 2040 pour ETI).Le parcours composé des phases 1 &amp; 2 &amp; 3 est proposé aux PME (Petites et moyennes entreprises) pour des locaux non assujetties au DEET.Seule la phase 3 est ouverte aux PME et ETI pour des locaux assujetties au DEET, après avoir réalisé au préalable un audit énergétique.\"} \n",
      "score: 15.137699\n",
      "{'id': '1ed1173a-a1f9-6dfc-94bf-35cceefa4543', 'description': \"Booster Entreprises Éco-Énergie Tertiaire : réduire votre facture énergétique et gagner en valeur verte\\nPour une rénovation énergétique de vos bâtiments d'activité tertiaire, Elle accompagne financièrement et techniquement les entreprises du secteur privé grâce à une offre d'ingénierie.\\nLimité à 4 régions (AuRA, Bretagne, Corse, Occitanie) pour 2023, le dispositif :vient soutenir l'ingénierie de réalisation des travaux  pour les entreprises assujetties au DEET. L'offre de Elle « Booster Entreprises Éco-Énergie Tertiaire » se positionnera après un audit énergétique ou diagnostic (Diag PERFIMMO de la BPI ou  équivalent) en proposant un soutien à une mission de maîtrise d'œuvre ou d''une mission d'AMO pour un Contrat de Performance Énergétique (CPE) ;est également ouvert aux  entreprises privées non assujetties au DEET, permettant le soutien à  l'ingénierie pour celles-ci dès l'étape de l'audit énergétique (ou diagnostic). Pour ces entreprises, il s'agira d'un acte volontaire leur permettant d'exploiter la totalité du gisement d'économies d'énergie sur leur bâtiment.Le soutien de Elle sera conditionné au respect des étapes suivantes (cf cahiers des charges joints) :Phases 1 &amp; 2, ouvertes aux PME non assujetties au DEET : audit et accompagnement pour les premières actions (sans travaux lourd).Phase 1, audit énergétique (ou diagnostic) : état des lieux, analyse, plan d'actions et montages financiers :analyse de l'existant ;campagne de mesures ;analyse de la campagne de mesure, identification des usages énergétiques significatifs, des facteurs internes et externes influençant les consommations et la définition des indicateurs de performance énergétique ;élaboration d'un modèle de référence théorique de consommations, qui permettra notamment de quantifier les gains d'économies d'énergie ;élaboration d'un plan d'actions évolutif avec 4 scénarios (actions à TRB &lt; 2 ans, scénarios DEET : 40, 50, 60 % d'économie d'énergie) ;chiffrage, analyse économique (coût global) et élaboration du Plan de financement.Phase 2, accompagnement à la mise en œuvre des actions à temps de retour rapide (réglages, régulations des installations, GTB, etc.) : lancement et accompagnement à la réalisation des actions à temps de retour rapides (TR &lt; 2 ans) ;contrôle et évaluation de la mise en place des actions ;conseil à l'entreprise pour la décision de réaliser les travaux d'un des scénarios du DEET, prestation d'ingénierie nécessaire pour mettre en œuvre ces travaux.  Phase 3, ouverte aux PME et ETI assujetties ou non au DEET : ingénierie pour réaliser des travaux d'économie d'énergie.Cette phase propose un soutien à l'ingénierie pour la mise en œuvre d'actions et travaux permettant l'atteinte des exigences du DEET :PME : objectif 2030 ( -40 % d'économie d'énergie ou valeur seuil) ;ETI : objectif 2040 ( -50 % d'économie d'énergie).Pour les PME et ETI assujetties au DEET il faudra au préalable avoir réalisé un audit énergétique (ou diagnostic) à minima équivalent à la phase 1 (exemple : Diag PerfImmo de la BPI). Durée maximale des différentes phases de la prestation :  Phase 1 : 6 mois.Phase 2 : 6 mois.Phase 3 : 36 mois.  Compétences requises pour le prestataire :Pour la réalisation de ces missions d'ingénierie, les entreprises devront faire appel à des prestataires de leur choix qui répondent aux critères de qualification et compétences décrits dans les cahiers des charges. Elle met également à disposition sur demande auprès des directions régionales, une liste non exhaustive de prestataires identifiés qui répondent à ces critères.L'aide financière de Elle sera la suivante :Phases 1 &amp; 2 : 60 % pour les ME*, 70 % pour les PE*Si les objectifs de la phase 2 ne sont pas réalisés, la phase 1 sera financée à hauteur de 40 % des dépenses éligibles pour les ME* et 50 % pour les PE*.Phase 3 : 50 % pour les ETI*, 60 % pour les ME* et 70 % pour les PE*.* PE : Petite Entreprise, ME : Moyenne Entreprise selon définition européenne; ETI : Entreprise de Taille Intermédiaire selon définition INSEE.Plafonds des dépenses éligibles par opération : Phase 1 : 8 000 € HTPhases 1 &amp; 2 : 10 000 € HTPhase 3 : 100 000 € HT \"} \n",
      "score: 14.80891\n",
      "{'id': '1ee93748-7b7f-6910-bee8-b5f04b30065f', 'description': \"Infrastructures de recharge pour les véhicules électriques dans les stations-service indépendantes\\nLe présent programme vise à soutenir les projets d'investissement dans le déploiement d'infrastructures de recharge électrique ouvertes au public dans les stations-service indépendantes.\\nPar station-service, est éligible aux subventions de ce programme, une seule infrastructure de recharge composée au minimum de deux points de recharge avec connecteurs CCS haute puissance (24 kW minimum) en courant continu ainsi que, pour respecter la réglementation en vigueur, d'un connecteur de 22 kW en courant alternatif. Si toutefois un point de recharge de 22 kW en courant alternatif conforme à la réglementation est déjà en place, les coûts associés à ce point de charge ne seront pas éligibles. Au moins un des points de recharge doit être accessible aux personnes à mobilité réduite, sauf en cas d'impossibilités techniques qui devront être justifiées.Les dépenses éligibles sont directement affectées au projet, elles rassemblent :les coûts des infrastructuresles coûts de leurs installations, les coûts liés aux travaux d'aménagement (génie civil, travaux électriques, interventions sur la voirie et réseaux divers)les coûts de raccordement au réseau public de distribution d'électricitéLes aides sont proposées sous la forme de subventions. Elles se composent de 2 parties cumulatives, avec les taux et plafonds suivants :1ʳᵉ partie : cette aide proposée sera fonction de la puissance cumulée en courant continu de l'installation.Une prise en charge de 70 % des dépenses éligibles (hors coût de raccordement) de l'installation :avec un plafond de 45 000 euros pour une installation de puissance cumulée inférieure à 75 kW.avec un plafond de 105 000 euros pour une installation de puissance cumulée supérieure à 75 kW.2ᵉ partie : cette aide concerne le raccordement électrique de l'installation, indépendante de la puissance cumulée.Une prise en charge de 70 % du coût de raccordement résiduel après réfaction du TURPE avec un plafond de 150 000 euros.\"} \n",
      "score: 14.743444\n",
      "{'id': '1ec47b3a-92a0-61f6-b304-cfc6f83dc509', 'description': \"Assistance à Maîtrise d'Ouvrage pour rénovation énergétique globale avec Contrat de Performance Énergétique\\nPour une rénovation énergétique de vos bâtiments, Elle accompagne financièrement et techniquement les collectivités et opérateurs du secteur tertiaire public grâce au Contrat de Performance Énergétique (CPE).\\nElle vous aide à garantir les gains énergétiques des opérations de rénovation énergétique globales, en finançant une Assistance à Maîtrise d'Ouvrage (AMO).L'aide de Elle est une subvention de 50 % du montant de votre coût d'AMO. Les dépenses totales d'AMO sont plafonnées à 100 k€. Cela vous permet de réalise les études et missions nécessaires à la mise en œuvre d'un Contrat de Performance Énergétique (CPE).L'AMO vous aidera à réaliser l'étude de faisabilité et d'opportunité d'un CPE (phase amont) et/ou pour la rédaction et procédure de passation du CPE, le suivi et son exécution (phase aval).L'aide financière de Elle est la suivante :Phase AMONT :taux d'aide Elle : 50 % ;plafond : coût d'une AMO plafonné à 30 000 euros (dont le coût de l'audit énergétique, à chiffrer en option). Phase AVAL : Rédaction et procédure de passation du CPE, suivi et mise en œuvre du CPEtaux d'aide Elle : 50 % ;plafond : coût d'une AMO plafonné à 50 000 euros pour un CPE.Le plafond des dépenses éligibles de la mission AMO CPE (phase amont et/ou aval), pourra être porté à 100 000 euros pour les opérations portant sur plusieurs bâtiments.\"} \n",
      "score: 14.735618\n",
      "{'id': '1ecb0028-6307-601a-97c4-ab3714e2df51', 'description': \"Dispositif de soutien à la création de postes de Conseil en énergie partagé (CEP)\\nPendant 3 ans, Elle cofinance la création de postes CEP. Le dispositif vise les petites communes et le réseau est animé par Elle.\\nElle cofinance la création de postes CEP, pendant 3 ans. L'objectif est que les économies générées par le CEP contribuent à financer son poste au bout de 3 ans. Elle anime le dispositif en proposant aux CEP un parcours de formation dédié, un espace collaboratif comprenant un forum d'échanges et un répertoire partagé, des webinaires et des réunions d'échange.Les missions du CEP au quotidien consistent à :réaliser des bilans énergétiques et proposer des améliorations hiérarchisées,accompagner les projets énergétiques engagés par les communes,sensibiliser les élus/gestionnaires/utilisateurs,initier des opérations collectives à l'échelle du territoire (achats groupés, valorisation des CEE...).L'objectif principal du CEP est d'accompagner et de conseiller sur leur patrimoine public les petites communes et les intercommunalités adhérentes en matière de :réduction des consommations, dépenses et émissions de CO2développement des Énergies Renouvelables.Consultez la charte CEP pour comprendre les contours d'une mission CEP ainsi que les valeurs qui l'accompagnent : https://agirpourlatransition.Elle.fr/entreprises/sites/default/files/Charte%20CEP%20-%202022.pdf \"} \n",
      "score: 14.595107\n",
      "{'id': '1ec47b3a-9173-683c-a3ec-cfc6f83dc509', 'description': \"Investissements de réseaux de chaleur ou de froid\\nElle vous accompagne dans l'investissement de vos réseaux de chaleur ou de froid, alimentés par des énergies renouvelables et/ou de récupération. Pour faciliter la transition énergétique, l'aide concerne l'extension, la densification, la création de nouveaux réseaux de chaleur ou de froid.\\nL'objectif poursuivi par cet accompagnement financier est de vous aider à mobiliser davantage de chaleur et/ou de froid issus de production d'EnR&amp;R.Le montant de votre aide est calculé sur la base d'une analyse économique ou sur la base d'une aide forfaitaire. Cela dépend de la puissance de l'installation sur laquelle votre réseau est, ou sera, connecté.Quelques critères doivent être respectés pour pouvoir bénéficier de l'aide : Votre réseau assure des services publics de distribution de la chaleur (la collectivité est autorité organisatrice) ;Votre réseau de chaleur existe au sens fiscal, avec au moins deux clients distincts du maître d'ouvrage ;Votre réseau technique distribue uniquement de la chaleur.Un critère géographique doit aussi être respecté pour bénéficier de l'aide.Votre réseau ou futur réseau doit se situer dans une des régions suivantes :Auvergne-Rhône-Alpes, Bourgogne-Franche-Comté, Bretagne, Centre-Val de Loire, Corse, Grand Est, Guadeloupe, Hauts-de-France, Île-de-France, La Réunion, Mayotte, Martinique, Normandie, Nouvelle-Aquitaine, Occitanie, Pays de la Loire, Polynésie française, Provence-Alpes-Côte d'Azur, Saint Pierre et Miquelon. Les projets sont obligatoirement raccordés à des unités physiques de production EnR&amp;R par biomasse, solaire thermique, géothermie, méthanisation, récupération de chaleur fatale (sur process industriel, UIOM…) et/ou cogénération.L'aide aux réseaux de Elle porte exclusivement sur la fonction « distribution ».Elle est conditionnée aux caractéristiques techniques de mise en œuvre des réseaux prévus :Production supplémentaire ;Part d'EnR&amp;R ;Densité énergétique.Elle est aussi conditionnée aux éventuels autres financements sollicités (exemple : Conseil Régional).Des aides pour réaliser vos études existent par ailleurs, sur ces mêmes pages AGIR.Contactez votre direction régionale Elle pour en savoir plus et notamment pour prendre connaissance des exemples de réseau de chaleur et de froid dans votre région.\"} \n",
      "score: 14.519786\n",
      "{'id': '1ee2bb9b-bb96-6eec-b224-a3d5932dfd5f', 'description': \"DETER - DEcarboner le TERtiaire\\nCet appel à projets a pour objectif de promouvoir la production de chaleur renouvelable et l'amélioration de l'efficacité énergétique via le financement des études de faisabilité et des investissements.\\nLe dispositif a pour objectif de promouvoir la production et l'utilisation de chaleur renouvelable et l'amélioration de l'efficacité énergétique, notamment par le biais d'aides issues du dispositif Fonds Chaleur opéré par Elle.L'AAP donnera lieu à des conventions d'aide groupées qui lieront le bénéficiaire et Elle et assureront des aides :aux études de faisabilité de production de chaleur EnR&amp;R (Énergies renouvelables et de récupération) éligibles au Fonds Chaleur ;aux investissements à engager pour la production de cette chaleur.En contrepartie de l'aide apportée, le bénéficiaire sera soumis à des exigences d'efficacité énergétique s'inscrivant dans une logique d'accélération des objectifs du DEET et de décarbonation de la chaleur. En particulier, le dispositif doit promouvoir une démarche conjuguée d'efficacité énergétique et de couverture par des EnR&amp;R des besoins de chaleur du candidat, sur le périmètre identifié.Cet engagement se matérialisera par les deux objectifs suivants :Objectif d'efficacité énergétique : sur l'ensemble des sites identifiés, les actions conjuguées d'efficacité et d'approvisionnement énergétiques, tous usages confondus, doivent conduire à une baisse globale des consommations, en énergie finale, d'au moins 50 % à l'issue des conventions ;Objectif de couverture EnR&amp;R : il est attendu une couverture minimum de 65 % des besoins de chaleur de l'ensemble des bâtiments identifiés par des EnR&amp;R.Le bilan énergétique de chaque site sera établi selon le périmètre consigné sur la plateforme OPERAT. \"} \n",
      "score: 14.492084\n",
      "{'id': '1ec6336c-b137-6754-a539-17dd47929cd0', 'description': \"Réalisation d'un Schéma Directeur Immobilier Énergétique (SDIE)\\nElle accompagne votre collectivité sur le plan technique et financier pour la réalisation d'un Schéma Directeur Immobilier Énergétique (SDIE).\\nElle aide à la réalisation d'un Schéma Directeur Immobilier Énergétique (SDIE) afin de      permettre aux collectivités territoriales d'initier des projets d'efficacité énergétique des bâtiments publics tertiaires.Dans une logique de programmation pluriannuelle des investissements, le SDIE permettra de phaser les projets dans le temps ainsi que d'y associer les subventions mobilisables.L'aide est une subvention de 50 % du montant de votre coût de réalisation du SDIE. Les dépenses totales sont plafonnées à 40 k€.L'élaboration d'un schéma directeur immobilier énergétique vous permettra :d'introduire des travaux d'amélioration de la performance énergétique notamment dans le cadre du dispositif éco-énergie tertiaire ;de tirer parti des externalités liées à l'amélioration de la valeur patrimoniale.Elle finance la réalisation de schéma directeur immobilier et énergétique (SDIE), basé sur un cahier des charges rédigé conjointement avec la FNCCR. Cette aide n'est pas cumulable avec l'aide proposée par le programme ACTEE+.\"} \n",
      "score: 14.27674\n"
     ]
    }
   ],
   "source": [
    "query_text = \"Je rénove un entrepot logistique et veux remplacer mon groupe froid de 500 kW.\"\n",
    "\n",
    "sparse_embedding = list(bm42.query_embed(query_text))[0]\n",
    "dense_embedding = list(jina.task_embed(documents[0][\"description\"], task_type = \"retrieval.query\"))[0].embedding\n",
    "colbert_embedding = list(colbert.query_embed(query_text))[0]\n",
    "\n",
    "hits = qdrant_client.query_points(\n",
    "  collection_name=HYBRID_COLLECTION_NAME,\n",
    "  prefetch=[\n",
    "      models.Prefetch(query=sparse_embedding.as_object(), using=\"bm42\", limit=15),\n",
    "      models.Prefetch(query=dense_embedding.tolist(), using=\"jina_dense\", limit=15),\n",
    "  ],\n",
    "  query=colbert_embedding.tolist(),\n",
    "  using=\"jina_colbert\",\n",
    "  limit=10,\n",
    ").points\n",
    "\n",
    "for hit in hits:\n",
    "    print(hit.payload, \"\\nscore:\", hit.score)"
   ]
  },
  {
   "cell_type": "code",
   "execution_count": null,
   "metadata": {},
   "outputs": [],
   "source": []
  }
 ],
 "metadata": {
  "kernelspec": {
   "display_name": ".venv",
   "language": "python",
   "name": "python3"
  },
  "language_info": {
   "codemirror_mode": {
    "name": "ipython",
    "version": 3
   },
   "file_extension": ".py",
   "mimetype": "text/x-python",
   "name": "python",
   "nbconvert_exporter": "python",
   "pygments_lexer": "ipython3",
   "version": "3.12.6"
  }
 },
 "nbformat": 4,
 "nbformat_minor": 2
}
